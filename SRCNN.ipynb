{
  "nbformat": 4,
  "nbformat_minor": 0,
  "metadata": {
    "colab": {
      "name": "SRCNN.ipynb",
      "provenance": [],
      "collapsed_sections": []
    },
    "kernelspec": {
      "name": "python3",
      "display_name": "Python 3"
    }
  },
  "cells": [
    {
      "cell_type": "code",
      "metadata": {
        "id": "T-atiIhTC1BX"
      },
      "source": [
        "%tensorflow_version 2.x"
      ],
      "execution_count": null,
      "outputs": []
    },
    {
      "cell_type": "code",
      "metadata": {
        "colab": {
          "base_uri": "https://localhost:8080/"
        },
        "id": "E8gWupg29c9K",
        "outputId": "76c4bd8d-e073-489f-ea98-fb348ac6dbe2"
      },
      "source": [
        "from os import listdir\n",
        "from google.colab.patches import cv2_imshow\n",
        "import h5py\n",
        "import numpy as np\n",
        "import cv2 as cv\n",
        "import tensorflow as tf\n",
        "import math\n",
        "from matplotlib import pyplot as plt\n",
        "from google.colab import drive\n",
        "import pickle\n",
        "import pandas as pd\n",
        "import base64\n",
        "print(\"Imported\")"
      ],
      "execution_count": null,
      "outputs": [
        {
          "output_type": "stream",
          "text": [
            "Imported\n"
          ],
          "name": "stdout"
        }
      ]
    },
    {
      "cell_type": "code",
      "metadata": {
        "id": "0oq1vOuZ7AlI",
        "colab": {
          "base_uri": "https://localhost:8080/"
        },
        "outputId": "7361d1dc-a195-487b-c583-2e78bd8b7cb6"
      },
      "source": [
        "# access google drive\n",
        "drive.mount('/content/drive')"
      ],
      "execution_count": null,
      "outputs": [
        {
          "output_type": "stream",
          "text": [
            "Mounted at /content/drive\n"
          ],
          "name": "stdout"
        }
      ]
    },
    {
      "cell_type": "markdown",
      "metadata": {
        "id": "ZZwgES8qmHyd"
      },
      "source": [
        "Settings"
      ]
    },
    {
      "cell_type": "code",
      "metadata": {
        "id": "PEZhj2QymKb6"
      },
      "source": [
        "# SRCNN will scale image up by factor\n",
        "scale = 4\n",
        "\n",
        "# subimages\n",
        "input_size = 33\n",
        "label_size = 21\n",
        "stride = 14\n",
        "edge = int((input_size - label_size) / 2)\n",
        "\n",
        "# file paths\n",
        "training_images = \"/content/drive/MyDrive/ISM/Final Product/SRCNN/data/train\"\n",
        "training_data = \"/content/drive/MyDrive/ISM/Final Product/SRCNN/data/train.h5\"\n",
        "test_images = \"/content/drive/MyDrive/ISM/Final Product/SRCNN/data/test\"\n",
        "weights_data = f\"/content/drive/MyDrive/ISM/Final Product/SRCNN/checkpoints/weights_scale{scale}.ckpt\"\n",
        "save_model_path = f\"/content/drive/MyDrive/ISM/Final Product/SRCNN/saved_models/{scale}x/\"\n",
        "test_results_path = f\"/content/drive/MyDrive/ISM/Final Product/SRCNN/test_results/{scale}x\"\n",
        "training_results_path = f\"/content/drive/MyDrive/ISM/Final Product/SRCNN/training_results/{scale}x.pickle\"\n",
        "\n",
        "# processes\n",
        "run_train = False\n",
        "run_test = False\n",
        "run_graphs = True\n",
        "run_save = False"
      ],
      "execution_count": null,
      "outputs": []
    },
    {
      "cell_type": "markdown",
      "metadata": {
        "id": "GxrcDUUH-aVR"
      },
      "source": [
        "Color Conversions"
      ]
    },
    {
      "cell_type": "code",
      "metadata": {
        "colab": {
          "base_uri": "https://localhost:8080/"
        },
        "id": "bjCGhmBV-b6v",
        "outputId": "5209fb0e-52fc-4308-dd69-6a71bcf5d1d2"
      },
      "source": [
        "def rgb2ycbcr(im):\n",
        "    xform = np.array([[.299, .587, .114], [-.1687, -.3313, .5], [.5, -.4187, -.0813]])\n",
        "    ycbcr = im.dot(xform.T)\n",
        "    ycbcr[:,:,[1,2]] += 128\n",
        "    return np.uint8(ycbcr)\n",
        "\n",
        "def ycbcr2rgb(im):\n",
        "    xform = np.array([[1, 0, 1.402], [1, -0.34414, -.71414], [1, 1.772, 0]])\n",
        "    rgb = im.astype(np.float)\n",
        "    rgb[:,:,[1,2]] -= 128\n",
        "    rgb = rgb.dot(xform.T)\n",
        "    np.putmask(rgb, rgb > 255, 255)\n",
        "    np.putmask(rgb, rgb < 0, 0)\n",
        "    return np.uint8(rgb)\n",
        "\n",
        "print(\"defined\")"
      ],
      "execution_count": null,
      "outputs": [
        {
          "output_type": "stream",
          "text": [
            "defined\n"
          ],
          "name": "stdout"
        }
      ]
    },
    {
      "cell_type": "markdown",
      "metadata": {
        "id": "gPnH8ELY-5WG"
      },
      "source": [
        "Prepare Training Data"
      ]
    },
    {
      "cell_type": "code",
      "metadata": {
        "id": "r91uc6XpHjDM",
        "colab": {
          "base_uri": "https://localhost:8080/"
        },
        "outputId": "bc662aae-18d4-4430-b732-27416766608a"
      },
      "source": [
        "# generate training subimages and save them to HDF5 file\n",
        "def prepare_training_data():\n",
        "  # image settings\n",
        "\n",
        "  input = []\n",
        "  label = []\n",
        "\n",
        "  filenames = listdir(training_images)\n",
        "  for filename in filenames:\n",
        "    image = cv.imread(training_images + '/' + filename)\n",
        "\n",
        "    # change color space to ycrcb\n",
        "    image = rgb2ycbcr(image)\n",
        "\n",
        "    # only use luminance and normalize\n",
        "    image = image[:, :, 0].astype(np.float) / 255.0\n",
        "\n",
        "    # ensure image size is divisible by image scale factor for resizing\n",
        "    size = image.shape\n",
        "    size -= np.mod(size, scale)\n",
        "    image_label = image[0:size[0], 0:size[1]]\n",
        "    \n",
        "    # create input image (degraded but same size)\n",
        "    down_sized = cv.resize(image_label, (0,0), fx=1.0/scale, fy=1.0/scale, interpolation=cv.INTER_CUBIC)\n",
        "    image_input = cv.resize(down_sized, (0,0), fx=scale, fy=scale, interpolation=cv.INTER_CUBIC)\n",
        "\n",
        "    # generate input and label subimages\n",
        "    h = image_input.shape[0]\n",
        "    w = image_input.shape[1]\n",
        "    for r in range(0, h - input_size, stride):\n",
        "      for c in range(0, w - input_size, stride):\n",
        "        # use the stride to generate subimage\n",
        "        subimage_input = image_input[r : r + input_size, c : c + input_size]\n",
        "        subimage_label = image_label[r + edge : r + edge + label_size, c + edge : c + edge + label_size]\n",
        "\n",
        "        # reshape to add third dimension for training\n",
        "        subimage_input = subimage_input.reshape(input_size, input_size, 1)\n",
        "        subimage_label = subimage_label.reshape(label_size, label_size, 1)\n",
        "\n",
        "        # add to lists\n",
        "        input.append(subimage_input)\n",
        "        label.append(subimage_label)\n",
        "\n",
        "\n",
        "  # shuffle the subimage data\n",
        "  count = len(input)\n",
        "  order = np.random.choice(count, count, replace=False)\n",
        "  input = np.array([input[i] for i in order])\n",
        "  label = np.array([label[i] for i in order])\n",
        "\n",
        "  print(f\"Prepared Training Data: {len(input)}\")\n",
        "\n",
        "  # save the training data to an HDF5 file\n",
        "  with h5py.File(training_data, 'w') as td:\n",
        "    td.create_dataset('input', data=input)\n",
        "    td.create_dataset('label', data=label)\n",
        "\n",
        "  print(\"saved\")\n",
        "\n",
        "print(\"defined\")"
      ],
      "execution_count": null,
      "outputs": [
        {
          "output_type": "stream",
          "text": [
            "defined\n"
          ],
          "name": "stdout"
        }
      ]
    },
    {
      "cell_type": "markdown",
      "metadata": {
        "id": "CrBsm2YBcPeC"
      },
      "source": [
        "Build SRCNN"
      ]
    },
    {
      "cell_type": "code",
      "metadata": {
        "colab": {
          "base_uri": "https://localhost:8080/"
        },
        "id": "7GDaSGUfbuyQ",
        "outputId": "093a444d-c593-41b2-9f84-dcf4cbc6c70e"
      },
      "source": [
        "def build_srcnn(learning_rate):\n",
        "  # subimage size\n",
        "  input_size = 33\n",
        "  # filter counts\n",
        "  n1, n2, n3 = 64, 32, 1\n",
        "  # filter sizes\n",
        "  f1, f2, f3 = 9, 5, 5\n",
        "\n",
        "  srcnn = tf.keras.models.Sequential()\n",
        "  # Patch Extraction: 64 9x9 filters, no padding, ReLU\n",
        "  srcnn.add(tf.keras.layers.Conv2D(n1, (f1, f1), padding=\"VALID\", activation='relu', input_shape=(input_size, input_size, 1)))\n",
        "  # Non-linear Mapping: 32 5x5 filters, padding, ReLU\n",
        "  srcnn.add(tf.keras.layers.Conv2D(n2, (f2, f2), padding=\"SAME\", activation='relu'))\n",
        "  # Reconstruction: 1 5x5 filter, no padding\n",
        "  srcnn.add(tf.keras.layers.Conv2D(n3, (f3, f3), padding=\"VALID\", activation='relu'))\n",
        "\n",
        "  # PSNR custom metric function\n",
        "  def psnr(y_true, y_pred):\n",
        "    error = tf.keras.backend.square(y_pred - y_true)\n",
        "    mse = np.mean(error.numpy()) \n",
        "    return 10 * math.log10(1.0 / mse)\n",
        "\n",
        "  # Gradient Descent to minimize MSE with PSNR as metric\n",
        "  srcnn.compile(\n",
        "      optimizer=tf.keras.optimizers.Adam(learning_rate=learning_rate),\n",
        "      loss=tf.keras.losses.MeanSquaredError(),\n",
        "      metrics=[psnr],\n",
        "      run_eagerly=True)\n",
        "\n",
        "  return srcnn\n",
        "\n",
        "print(\"defined\")"
      ],
      "execution_count": null,
      "outputs": [
        {
          "output_type": "stream",
          "text": [
            "defined\n"
          ],
          "name": "stdout"
        }
      ]
    },
    {
      "cell_type": "markdown",
      "metadata": {
        "id": "yEF-6SvmJfVH"
      },
      "source": [
        "SRCNN Architecture"
      ]
    },
    {
      "cell_type": "code",
      "metadata": {
        "colab": {
          "base_uri": "https://localhost:8080/"
        },
        "id": "pgYaL24SJi4h",
        "outputId": "de45c874-2349-41e1-a765-5a6b49f300ac"
      },
      "source": [
        "def srcnn_architecture():\n",
        "  build_srcnn(learning_rate=0).summary()\n",
        "\n",
        "print(\"defined\")"
      ],
      "execution_count": null,
      "outputs": [
        {
          "output_type": "stream",
          "text": [
            "defined\n"
          ],
          "name": "stdout"
        }
      ]
    },
    {
      "cell_type": "markdown",
      "metadata": {
        "id": "ZimRazfM9QXP"
      },
      "source": [
        "Train SRCNN"
      ]
    },
    {
      "cell_type": "code",
      "metadata": {
        "id": "kP8CS1ok9S-m",
        "colab": {
          "base_uri": "https://localhost:8080/"
        },
        "outputId": "905d9627-7e44-4cf1-c891-e11257342e45"
      },
      "source": [
        "def train_model():\n",
        "  # hyperparameters\n",
        "  learning_rate = 0.0001\n",
        "  epochs = 150\n",
        "  batch_size = 128\n",
        "\n",
        "  # load the training data\n",
        "  input = []\n",
        "  label = []\n",
        "  with h5py.File(training_data, 'r') as td:\n",
        "    input = np.array(td.get('input'))\n",
        "    label = np.array(td.get('label'))\n",
        "\n",
        "  # callback to save weights every epoch\n",
        "  cp_callback = tf.keras.callbacks.ModelCheckpoint(filepath=weights_data, save_weights_only=True, verbose=1)\n",
        "\n",
        "  # train model\n",
        "  srcnn = build_srcnn(learning_rate=learning_rate)\n",
        "  history = srcnn.fit(x=input, y=label, epochs=epochs, validation_split=0.25, batch_size=batch_size, callbacks=[cp_callback])\n",
        "\n",
        "  with open(training_results_path, 'wb') as file_pi:\n",
        "    pickle.dump(history.history, file_pi)\n",
        "\n",
        "print(\"defined\")"
      ],
      "execution_count": null,
      "outputs": [
        {
          "output_type": "stream",
          "text": [
            "defined\n"
          ],
          "name": "stdout"
        }
      ]
    },
    {
      "cell_type": "markdown",
      "metadata": {
        "id": "HSMrsGHCK1tk"
      },
      "source": [
        "Run Training"
      ]
    },
    {
      "cell_type": "code",
      "metadata": {
        "id": "NylxpUxuK7Fl"
      },
      "source": [
        "if run_train:\n",
        "  # print model architecture\n",
        "  srcnn_architecture()\n",
        "\n",
        "  # create training data\n",
        "  prepare_training_data()\n",
        "\n",
        "  # train and save weights\n",
        "  train_model()\n",
        "\n",
        "  print(\"Finished Training\")"
      ],
      "execution_count": null,
      "outputs": []
    },
    {
      "cell_type": "markdown",
      "metadata": {
        "id": "Qh7SqY6wuJl8"
      },
      "source": [
        "Preparing Test Data"
      ]
    },
    {
      "cell_type": "code",
      "metadata": {
        "colab": {
          "base_uri": "https://localhost:8080/"
        },
        "id": "54OZXvuhuRzh",
        "outputId": "a7d1262a-7e53-4149-9430-631c6cfa0797"
      },
      "source": [
        "# prepare the images for testing\n",
        "def prepare_test_images():\n",
        "  images = []\n",
        "  input_luminances = []\n",
        "\n",
        "  filenames = listdir(test_images)\n",
        "  for filename in filenames:\n",
        "    image = cv.imread(test_images + '/' + filename)\n",
        "\n",
        "    # ensure image size is divisible by image scale factor for resizing\n",
        "    size = image.shape\n",
        "    size -= np.mod(size, scale)\n",
        "    image = image[0:size[0], 0:size[1]]\n",
        "\n",
        "    # change color space to ycrcb\n",
        "    image = rgb2ycbcr(image)\n",
        "    images.append(image)\n",
        "\n",
        "    # isolate luminance\n",
        "    luminance = image[:, :, 0].astype(np.float) / 255.0\n",
        "    \n",
        "    # degrade luminance input\n",
        "    luminance = cv.resize(luminance, (0,0), fx=1/scale, fy=1/scale, interpolation=cv.INTER_CUBIC)\n",
        "    luminance = cv.resize(luminance, (0,0), fx=scale, fy=scale, interpolation=cv.INTER_CUBIC)\n",
        "    \n",
        "    # reshape for model input\n",
        "    luminance = luminance.reshape(luminance.shape[0], luminance.shape[1], 1)\n",
        "\n",
        "    input_luminances.append(luminance)\n",
        "\n",
        "  return filenames, images, input_luminances\n",
        "\n",
        "print(\"defined\")"
      ],
      "execution_count": null,
      "outputs": [
        {
          "output_type": "stream",
          "text": [
            "defined\n"
          ],
          "name": "stdout"
        }
      ]
    },
    {
      "cell_type": "markdown",
      "metadata": {
        "id": "zSpHXLAPXVYt"
      },
      "source": [
        "Test SRCNN"
      ]
    },
    {
      "cell_type": "code",
      "metadata": {
        "colab": {
          "base_uri": "https://localhost:8080/"
        },
        "id": "gHF2gch01RYB",
        "outputId": "53244840-b128-4fba-bd3d-ca533820420a"
      },
      "source": [
        "def test_model():\n",
        "  # get test data\n",
        "  filenames, images, input_luminances = prepare_test_images()\n",
        "\n",
        "  # create model\n",
        "  model = build_srcnn(0)\n",
        "\n",
        "  # load trained weights\n",
        "  model.load_weights(weights_data)\n",
        "\n",
        "  # define psnr\n",
        "  def psnr(im1, im2):\n",
        "    error = np.square(im1 - im2)\n",
        "    mse = np.mean(error) \n",
        "    return 10 * math.log10(255.0**2 / mse)\n",
        "\n",
        "  # shave borders for same dimensions\n",
        "  def shave(image, border):\n",
        "    return image[border:-border, border:-border]\n",
        "\n",
        "  # print results\n",
        "  for i in range(0, len(images)):\n",
        "    label = shave(images[i][:, :, 0], edge)\n",
        "    \n",
        "    x = input_luminances[i]\n",
        "    x = x.reshape(1, x.shape[0], x.shape[1], 1)\n",
        "    output = model.predict(x)[0, :, :, 0] * 255\n",
        "\n",
        "    bicubic = shave(input_luminances[i][:, :, 0] * 255, edge)\n",
        "\n",
        "    print(f\"Image {i}\")\n",
        "    print(f\"Bicubic PSNR: {psnr(label, bicubic)}\")\n",
        "    print(f\"SRCNN PSNR: {psnr(label, output)}\")\n",
        "    print(\"---------------------\")\n",
        "\n",
        "    output_image = np.zeros((output.shape[0], output.shape[1], 3))\n",
        "    output_image[:, :, 0] = output\n",
        "    output_image[:, :, 1:3] = shave(images[i][:, :, 1:3], edge)\n",
        "    output_image = ycbcr2rgb(output_image)\n",
        "\n",
        "    bicubic_image = np.zeros((bicubic.shape[0], bicubic.shape[1], 3))\n",
        "    bicubic_image[:, :, 0] = bicubic\n",
        "    bicubic_image[:, :, 1:3] = shave(images[i][:, :, 1:3], edge)\n",
        "    bicubic_image = ycbcr2rgb(bicubic_image)\n",
        "\n",
        "    cv.imwrite(f\"{test_results_path}/srcnn/{filenames[i][0:filenames[i].index('.')]}.jpg\", output_image)\n",
        "    cv.imwrite(f\"{test_results_path}/bicubic/{filenames[i][0:filenames[i].index('.')]}.jpg\", bicubic_image)\n",
        "\n",
        "print(\"defined\")"
      ],
      "execution_count": null,
      "outputs": [
        {
          "output_type": "stream",
          "text": [
            "defined\n"
          ],
          "name": "stdout"
        }
      ]
    },
    {
      "cell_type": "markdown",
      "metadata": {
        "id": "NH8yfGEYwT9D"
      },
      "source": [
        "Run Tests"
      ]
    },
    {
      "cell_type": "code",
      "metadata": {
        "id": "1THSD9PFwYvr"
      },
      "source": [
        "if run_test:\n",
        "  test_model()"
      ],
      "execution_count": null,
      "outputs": []
    },
    {
      "cell_type": "markdown",
      "metadata": {
        "id": "ZwmAL-DNyvrB"
      },
      "source": [
        "Visualize Training"
      ]
    },
    {
      "cell_type": "code",
      "metadata": {
        "id": "z8f86L1Myy4I",
        "colab": {
          "base_uri": "https://localhost:8080/",
          "height": 334
        },
        "outputId": "207e4140-38be-4d4a-8fe9-89fcfa9f035b"
      },
      "source": [
        "if run_graphs:\n",
        "  plt.figure(figsize=(10, 5))\n",
        "  plt.xlabel(\"Epoch\")\n",
        "  plt.ylabel(\"Validation PSNR\")\n",
        "\n",
        "  filenames = listdir('/content/drive/MyDrive/ISM/Final Product/SRCNN/training_results')\n",
        "  for filename in filenames:\n",
        "    history = pickle.load(open('/content/drive/MyDrive/ISM/Final Product/SRCNN/training_results/' + filename, \"rb\"))\n",
        "    history = pd.DataFrame(history)\n",
        "\n",
        "    epochs = list(range(0, 150))\n",
        "    \n",
        "    y = history['psnr']\n",
        "    plt.plot(epochs, y, label=filename[0:filename.index('.')])\n",
        "\n",
        "  plt.legend()"
      ],
      "execution_count": null,
      "outputs": [
        {
          "output_type": "display_data",
          "data": {
            "image/png": "[encoded data removed]",
            "text/plain": [
              "<Figure size 720x360 with 1 Axes>"
            ]
          },
          "metadata": {
            "tags": [],
            "needs_background": "light"
          }
        }
      ]
    },
    {
      "cell_type": "markdown",
      "metadata": {
        "id": "7kGXufWpv7o_"
      },
      "source": [
        "Save for TensorFlow Serving"
      ]
    },
    {
      "cell_type": "code",
      "metadata": {
        "id": "Or20ZsbNv9OK"
      },
      "source": [
        "if run_save:\n",
        "  model = build_srcnn(0)\n",
        "  model.load_weights(weights_data)\n",
        "    \n",
        "  @tf.function(input_signature=(tf.TensorSpec(shape=[None, None, 3], dtype=tf.uint8),))\n",
        "  def preprocessing(input_tensor):\n",
        "    output_tensor = tf.cast(input_tensor, dtype=tf.float32)\n",
        "    \n",
        "    output_tensor = tf.image.rgb_to_yuv(output_tensor)\n",
        "\n",
        "    output_tensor = output_tensor[:, :, 0]\n",
        "    output_tensor = tf.divide(output_tensor, tf.constant(255.))\n",
        "\n",
        "    output_tensor = tf.reshape(output_tensor, [tf.shape(output_tensor)[0], tf.shape(output_tensor)[1], 1])\n",
        "    \n",
        "    return output_tensor\n",
        "\n",
        "  @tf.function(input_signature=(tf.TensorSpec(shape=[None], dtype=tf.string),))\n",
        "  def decode(image_bytes):\n",
        "    input_tensor = tf.map_fn(\n",
        "        lambda x: preprocessing(tf.io.decode_jpeg(contents=x, channels=3)),\n",
        "        image_bytes,\n",
        "        dtype=tf.float32,\n",
        "    )\n",
        "    return input_tensor\n",
        "\n",
        "  @tf.function(input_signature=(tf.TensorSpec(shape=[None], dtype=tf.string),))\n",
        "  def serving(image_bytes):\n",
        "    return {\n",
        "      tf.saved_model.PREDICT_OUTPUTS: model(decode(image_bytes=image_bytes)),\n",
        "    }\n",
        "\n",
        "  tf.saved_model.save(\n",
        "    model,\n",
        "    export_dir=save_model_path,\n",
        "    signatures={\n",
        "      \"serving_default\": serving,\n",
        "    },\n",
        "  )\n",
        "\n",
        "  print('saved')"
      ],
      "execution_count": null,
      "outputs": []
    }
  ]
}